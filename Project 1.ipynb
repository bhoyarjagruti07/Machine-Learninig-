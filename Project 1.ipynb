{
 "cells": [
  {
   "cell_type": "code",
   "execution_count": null,
   "id": "0e1864db-18ec-44f9-8815-98eec985eb29",
   "metadata": {},
   "outputs": [],
   "source": [
    "import numpy as np\n",
    "import pandas as pd\n",
    "import seaborn as sns\n",
    "import matplotlib.pyplot as plt\n",
    "import missingno as msno\n",
    "\n",
    "import warnings\n",
    "warnings.filterwarnings('ignore')\n",
    "\n",
    "sns.set()\n",
    "plt.style.use('ggplot')"
   ]
  },
  {
   "cell_type": "code",
   "execution_count": null,
   "id": "0d5a95c2-8e02-4aa0-94ed-5403345c265f",
   "metadata": {},
   "outputs": [],
   "source": [
    "df = pd.read_csv(\"breast-cancer.csv\")"
   ]
  },
  {
   "cell_type": "code",
   "execution_count": null,
   "id": "3f2562ef-6ab8-42b8-b791-308f099ff23b",
   "metadata": {},
   "outputs": [],
   "source": [
    "df.head()"
   ]
  },
  {
   "cell_type": "code",
   "execution_count": null,
   "id": "7dabe0a9-3ad0-41af-b922-f7dee8b99149",
   "metadata": {},
   "outputs": [],
   "source": [
    "# DATA PREPROCESSING\n",
    "df.diagnosis.unique()"
   ]
  },
  {
   "cell_type": "code",
   "execution_count": null,
   "id": "eff7395a-02df-43aa-964a-21bdf1fd45ff",
   "metadata": {},
   "outputs": [],
   "source": [
    "#M-> Malignint\n",
    "#B-> Benign"
   ]
  },
  {
   "cell_type": "code",
   "execution_count": null,
   "id": "41be66d2-a8a6-4496-9a69-c24d22d0d957",
   "metadata": {},
   "outputs": [],
   "source": [
    "# Supervised-> target\n",
    "# Unsupervised\n",
    "df.describe()"
   ]
  },
  {
   "cell_type": "code",
   "execution_count": null,
   "id": "0efaeeac-d4ad-4c16-94b8-240b958ccb66",
   "metadata": {},
   "outputs": [],
   "source": [
    "df.info()"
   ]
  },
  {
   "cell_type": "code",
   "execution_count": null,
   "id": "cf40efcd-66b8-44a2-8a6c-2789805c8336",
   "metadata": {},
   "outputs": [],
   "source": [
    "#misisng value\n",
    "df.isnull().sum()"
   ]
  },
  {
   "cell_type": "code",
   "execution_count": null,
   "id": "d76e3a35-270b-4e91-a94f-64d83b9ab1d7",
   "metadata": {},
   "outputs": [],
   "source": [
    "msno.bar(df, color=\"yellow\")"
   ]
  },
  {
   "cell_type": "code",
   "execution_count": null,
   "id": "8d2a321f-0782-445b-87df-011bd5f200a0",
   "metadata": {},
   "outputs": [],
   "source": [
    "# There is no missing value in the dataset\n",
    "# so we don't need to handle out"
   ]
  },
  {
   "cell_type": "code",
   "execution_count": null,
   "id": "8d2db7c5-ad0b-4b6b-8b18-c69cceb1c482",
   "metadata": {},
   "outputs": [],
   "source": [
    "df['diagnosis'] = df['diagnosis'].apply(lambda val:1 if val=='M' else 0)"
   ]
  },
  {
   "cell_type": "code",
   "execution_count": null,
   "id": "9cb36b9f-18ef-4c64-8413-dfd190ddfb12",
   "metadata": {},
   "outputs": [],
   "source": [
    "plt.hist(df['diagnosis'])\n",
    "plt.title('Diagnosis(M=1, B=0)')\n",
    "plt.show()"
   ]
  },
  {
   "cell_type": "code",
   "execution_count": null,
   "id": "34a1bb4f-b8e0-49ed-858f-d2ac6f22117c",
   "metadata": {},
   "outputs": [],
   "source": [
    "#EDA"
   ]
  },
  {
   "cell_type": "code",
   "execution_count": null,
   "id": "f0091f31-a3e8-444a-a88d-9b52c340600d",
   "metadata": {},
   "outputs": [],
   "source": [
    "# each 5 row its having 6 columns\n",
    "# density graph\n",
    "\n",
    "plt.figure(figure=(20,15))\n",
    "plotnumber=1\n",
    "for column in df:\n",
    "    if plotnumber <=30:\n",
    "        ax = plt.subplot(6,7, plotnumber)\n",
    "        sns.distplot(df[column])\n",
    "        plt.xlabel(column)\n",
    "    plotnumber+=1\n",
    "\n",
    "plt.tight_layout()\n",
    "plt.show()"
   ]
  },
  {
   "cell_type": "code",
   "execution_count": null,
   "id": "31298a90-9e41-495b-ac2c-adca6a8d0a25",
   "metadata": {},
   "outputs": [],
   "source": [
    "df.corr()"
   ]
  },
  {
   "cell_type": "code",
   "execution_count": null,
   "id": "ce2a3f24-02fd-46db-98f8-6a55ea36fcce",
   "metadata": {},
   "outputs": [],
   "source": [
    "#heatmap\n",
    "plt.figure(figsize=(20,12))\n",
    "corr = df.corr()\n",
    "mask = np.triu(np.ones_like(corr, dtype=bool))\n",
    "sns.heatmap(corr, mask=mask, linewidths=1, annot=True, fmt = \".2f\")\n",
    "plt.show()"
   ]
  },
  {
   "cell_type": "code",
   "execution_count": null,
   "id": "d51863a3-44a8-4287-ac8b-1d8a881b7051",
   "metadata": {},
   "outputs": [],
   "source": [
    "# highly correlated feature\n",
    "# multicollinearity"
   ]
  },
  {
   "cell_type": "code",
   "execution_count": null,
   "id": "537f1daa-6a1d-4e89-a812-121f1cfc3332",
   "metadata": {},
   "outputs": [],
   "source": [
    "df.drop('id', axis=1, inplace=True)"
   ]
  },
  {
   "cell_type": "code",
   "execution_count": null,
   "id": "c95a8fdb-d90f-4939-95c5-8cdb8b5a9e68",
   "metadata": {},
   "outputs": [],
   "source": [
    "#feature column\n",
    "corr_matrix = df.corr().abs()\n",
    "mask = np.triu(np.ones_like(corr_matrix, dtype=bool))\n",
    "tri_df = corr_matrix.mask(mask)\n",
    "#features having value greater than 0.92 drop them\n",
    "to_drop = [x for x in tri_df.columns if any(tri_df[x]>0.92)]\n",
    "\n",
    "df = df.drop(to_drop, axis=1)\n",
    "\n",
    "print(df.shape[1])"
   ]
  },
  {
   "cell_type": "code",
   "execution_count": null,
   "id": "01c2908f-2a2c-4b82-88d4-57e3fd945c2b",
   "metadata": {},
   "outputs": [],
   "source": [
    "df.head()"
   ]
  },
  {
   "cell_type": "code",
   "execution_count": null,
   "id": "904dab8f-e331-4d61-b3f6-63bbe72d02de",
   "metadata": {},
   "outputs": [],
   "source": [
    "# 32 feature reduce it to 23"
   ]
  },
  {
   "cell_type": "code",
   "execution_count": null,
   "id": "cc9e1ded-9d9e-4eee-9f47-774839f129ca",
   "metadata": {},
   "outputs": [],
   "source": [
    "X = df.drop('diagnosis', axis=1)\n",
    "y = df['diagnosis']"
   ]
  },
  {
   "cell_type": "code",
   "execution_count": null,
   "id": "f9e5d186-8505-4a68-b95a-51f161843c06",
   "metadata": {},
   "outputs": [],
   "source": [
    "from sklearn.model_selection import train_test_split\n",
    "X_train, X_test, y_train, y_test =train_test_split(X,y, test_size=0.2, random_state=0)"
   ]
  },
  {
   "cell_type": "code",
   "execution_count": null,
   "id": "91193bd9-5f7e-4625-b073-0eaa9b1df673",
   "metadata": {},
   "outputs": [],
   "source": [
    "#Scaling data\n",
    "from sklearn.preprocessing import StandardScaler\n",
    "scaler = StandardScaler()\n",
    "X_train = scaler.fit_transform(X_train)\n",
    "X_test = scaler.transform(X_test)"
   ]
  },
  {
   "cell_type": "code",
   "execution_count": null,
   "id": "03dc4ba5-a358-4405-a0da-37ce2a7c2fb9",
   "metadata": {},
   "outputs": [],
   "source": [
    "X_train.shape"
   ]
  },
  {
   "cell_type": "code",
   "execution_count": null,
   "id": "f0a58d0c-77a7-44f2-b18c-ee1f7f9b9753",
   "metadata": {},
   "outputs": [],
   "source": [
    "# Apply Machine Learninig Algorithm"
   ]
  },
  {
   "cell_type": "code",
   "execution_count": null,
   "id": "a52735de-bb6b-4de7-b790-6ee12ab7dae1",
   "metadata": {},
   "outputs": [],
   "source": [
    "from sklearn.linear_model import LogisticRegression\n",
    "log_reg = LogisticRegression()\n",
    "log_reg.fit(X_train, y_train)"
   ]
  },
  {
   "cell_type": "code",
   "execution_count": null,
   "id": "f1ee4f58-ff51-4888-8e3c-55f714673ee6",
   "metadata": {},
   "outputs": [],
   "source": [
    "y_pred = log_reg.predict(X_test)"
   ]
  },
  {
   "cell_type": "code",
   "execution_count": null,
   "id": "a9a15032-2c7f-41b4-81ba-be16b163abcd",
   "metadata": {},
   "outputs": [],
   "source": [
    "y_pred"
   ]
  },
  {
   "cell_type": "code",
   "execution_count": null,
   "id": "61e62519-e223-44c4-9baa-a6a200ec9950",
   "metadata": {},
   "outputs": [],
   "source": [
    "from sklearn.metrics import accuracy_score, confusion_matrix, classification_report\n",
    "print(accuracy_score(y_train, log_reg.predict(X_train)))\n",
    "log_reg_acc = accuracy_score(y_test, log_reg.predict(X_test))\n",
    "print(log_reg_acc)\n",
    "print(confusion_matrix(y_test, y_pred))\n",
    "print(classification_report(y_test, y_pred))"
   ]
  },
  {
   "cell_type": "code",
   "execution_count": null,
   "id": "07c43d11-389f-4897-8500-93d8cd5becda",
   "metadata": {},
   "outputs": [],
   "source": [
    "# KNN\n",
    "from sklearn.neighbors import KNeighborsClassifier\n",
    "\n",
    "knn = KNeighborsClassifier()\n",
    "knn.fit(X_train, y_train)"
   ]
  },
  {
   "cell_type": "code",
   "execution_count": null,
   "id": "71bd2d17-10fb-479c-8d6c-464827958a63",
   "metadata": {},
   "outputs": [],
   "source": [
    "y_pred = log_reg.predict(X_test)"
   ]
  },
  {
   "cell_type": "code",
   "execution_count": null,
   "id": "e82a5292-7a10-449b-8376-01fe41a05ace",
   "metadata": {},
   "outputs": [],
   "source": [
    "y_pred"
   ]
  },
  {
   "cell_type": "code",
   "execution_count": null,
   "id": "0c6d6f65-ce7b-4963-a0c5-290c1a0ba70e",
   "metadata": {},
   "outputs": [],
   "source": [
    "from sklearn.metrics import accuracy_score, confusion_matrix, classification_report\n",
    "print(accuracy_score(y_train, knn.predict(X_train)))\n",
    "knn_acc = accuracy_score(y_test, knn.predict(X_test))\n",
    "print(knn_acc)\n",
    "y_pred = knn.predict(X_test)\n",
    "print(confusion_matrix(y_test, y_pred))\n",
    "print(classification_report(y_test, y_pred))"
   ]
  },
  {
   "cell_type": "code",
   "execution_count": null,
   "id": "1f4b1c8a-c24a-4078-ba94-f690c277a382",
   "metadata": {},
   "outputs": [],
   "source": [
    "# SVM\n",
    "# Hyperparameter tuning\n",
    "from sklearn.svm import SVC\n",
    "from sklearn.model_selection import GridSearchCV\n",
    "svc = SVC(probability=True)\n",
    "\n",
    "parameters = {\n",
    "    'gamma' : [0.0001, 0.001, 0.01, 0.1],\n",
    "    'C' : [0.01, 0.05, 0.5, 0.1, 1, 10, 15, 20]\n",
    "}\n",
    "grid_search = GridSearchCV(svc, parameters)\n",
    "grid_search.fit(X_train, y_train)"
   ]
  },
  {
   "cell_type": "code",
   "execution_count": null,
   "id": "eca93125-a6ad-410d-a1d9-5d98ba812421",
   "metadata": {},
   "outputs": [],
   "source": [
    "grid_search.best_params_"
   ]
  },
  {
   "cell_type": "code",
   "execution_count": null,
   "id": "bf514332-a65c-43a9-80f5-672db7312191",
   "metadata": {},
   "outputs": [],
   "source": [
    "grid_search.best_score_"
   ]
  },
  {
   "cell_type": "code",
   "execution_count": null,
   "id": "d96f8f29-1681-4b69-afe8-5ce32f4ce2f4",
   "metadata": {},
   "outputs": [],
   "source": [
    "svc = SVC(C=15, gamma=0.01, probability=True)\n",
    "svc.fit(X_train, y_train)"
   ]
  },
  {
   "cell_type": "code",
   "execution_count": null,
   "id": "ac0c923f-3f33-4a8c-9187-4ec030778b40",
   "metadata": {},
   "outputs": [],
   "source": [
    "y_pred = svc.predict(X_test)"
   ]
  },
  {
   "cell_type": "code",
   "execution_count": null,
   "id": "f8e3235d-9230-40cb-98cb-8174fa8cc21e",
   "metadata": {},
   "outputs": [],
   "source": [
    "y_pred"
   ]
  },
  {
   "cell_type": "code",
   "execution_count": null,
   "id": "836ebc43-df11-4edb-a983-be824b09df66",
   "metadata": {},
   "outputs": [],
   "source": [
    "from sklearn.metrics import accuracy_score, confusion_matrix, classification_report\n",
    "print(accuracy_score(y_train, svc.predict(X_train)))\n",
    "svc_acc = accuracy_score(y_test, svc.predict(X_test))\n",
    "print(svc_acc)\n",
    "y_pred = svc.predict(X_test)\n",
    "print(confusion_matrix(y_test, y_pred))\n",
    "print(classification_report(y_test, y_pred))"
   ]
  },
  {
   "cell_type": "code",
   "execution_count": null,
   "id": "6882c4a1-374c-42aa-a040-4606acb6416d",
   "metadata": {},
   "outputs": [],
   "source": [
    "#Decision Tree Classifier\n",
    "from sklearn.tree import DecisionTreeClassifier\n",
    "\n",
    "dtc = DecisionTreeClassifier()\n",
    "\n",
    "parameters = {\n",
    "    'criterion':['gini','entropy'],\n",
    "    'max_depth': range(2,32,1),\n",
    "    'min_samples_leaf':range(1,10,1),\n",
    "    'min_samples_split':range(2,10,1),\n",
    "    'splitter':['best','random']\n",
    "}\n",
    "\n",
    "grid_search_dt = GridSearchCV(dtc, parameters, cv=5, n_jobs=-1, verbose=1)\n",
    "grid_search_dt.fit(X_train, y_train)"
   ]
  },
  {
   "cell_type": "code",
   "execution_count": null,
   "id": "73cfbaf0-5db6-4b7d-b3f5-1595944a0581",
   "metadata": {},
   "outputs": [],
   "source": [
    "grid_search_dt.best_params_"
   ]
  },
  {
   "cell_type": "code",
   "execution_count": null,
   "id": "869b6e1b-3f82-431f-8474-fce0c79a610f",
   "metadata": {},
   "outputs": [],
   "source": [
    "grid_search_dt.best_score_"
   ]
  },
  {
   "cell_type": "code",
   "execution_count": null,
   "id": "4e042fb3-2abf-49a9-bff6-357f717882d5",
   "metadata": {},
   "outputs": [],
   "source": [
    "dtc = DecisionTreeClassifier(criterion='entropy', max_depth=15, min_samples_leaf = 4, min_samples_split = 5, splitter='random')"
   ]
  },
  {
   "cell_type": "code",
   "execution_count": null,
   "id": "1a9fbe5d-a7b2-4bc4-a5cb-01e6ad71ba18",
   "metadata": {},
   "outputs": [],
   "source": [
    "dtc.fit(X_train, y_train)"
   ]
  },
  {
   "cell_type": "code",
   "execution_count": null,
   "id": "400eded5-f66a-48df-9e6d-3631db4afbf3",
   "metadata": {},
   "outputs": [],
   "source": [
    "from sklearn.metrics import accuracy_score, confusion_matrix, classification_report\n",
    "print(accuracy_score(y_train, dtc.predict(X_train)))\n",
    "dtc_acc = accuracy_score(y_test, dtc.predict(X_test))\n",
    "print(dtc_acc)\n",
    "y_pred = dtc.predict(X_test)\n",
    "print(confusion_matrix(y_test, y_pred))\n",
    "print(classification_report(y_test, y_pred))"
   ]
  },
  {
   "cell_type": "code",
   "execution_count": null,
   "id": "dacc0fb0-62e1-44c9-bf69-567d3b1433f3",
   "metadata": {},
   "outputs": [],
   "source": [
    "from sklearn.ensemble import RandomForestClassifier\n",
    "\n",
    "rand_clf = RandomForestClassifier(criterion = 'entropy', max_depth = 10, max_features = 0.5, min_samples_leaf=2, min_samples_split = 3, n_estimators = 130)\n",
    "rand_clf.fit(X_train, y_train)"
   ]
  },
  {
   "cell_type": "code",
   "execution_count": null,
   "id": "e130ddb5-d949-4d15-9070-0af6fa8d9c89",
   "metadata": {},
   "outputs": [],
   "source": [
    "y_pred = rand_clf.predict(X_test)"
   ]
  },
  {
   "cell_type": "code",
   "execution_count": null,
   "id": "26333e23-8132-4057-8729-7a316826431c",
   "metadata": {},
   "outputs": [],
   "source": [
    "y_pred"
   ]
  },
  {
   "cell_type": "code",
   "execution_count": null,
   "id": "11666408-4a78-45da-8eac-7cdd30723342",
   "metadata": {},
   "outputs": [],
   "source": [
    "from sklearn.metrics import accuracy_score, confusion_matrix, classification_report\n",
    "print(accuracy_score(y_train, rand_clf.predict(X_train)))\n",
    "rand_clf_acc = accuracy_score(y_test, rand_clf.predict(X_test))\n",
    "print(rand_clf_acc)\n",
    "y_pred = rand_clf.predict(X_test)\n",
    "print(confusion_matrix(y_test, y_pred))\n",
    "print(classification_report(y_test, y_pred))"
   ]
  },
  {
   "cell_type": "code",
   "execution_count": null,
   "id": "8c142759-3cb8-40df-b92f-3950d6ecce5c",
   "metadata": {},
   "outputs": [],
   "source": [
    "!pip install scikit-learn"
   ]
  },
  {
   "cell_type": "code",
   "execution_count": null,
   "id": "aa934af6-4eb9-4dae-aead-0425e9288cb4",
   "metadata": {},
   "outputs": [],
   "source": [
    "from sklearn.model_selection import GridSearchCV\n",
    "from sklearn.ensemble import GradientBoostingClassifier\n",
    "\n",
    "# Initialize the Gradient Boosting Classifier\n",
    "gbc = GradientBoostingClassifier()\n",
    "\n",
    "# Define the parameter grid\n",
    "parameters = {\n",
    "    'loss': ['deviance', 'exponential'],\n",
    "    'learning_rate': [0.001, 0.1],\n",
    "    'n_estimators': [100, 150, 180]\n",
    "}\n",
    "\n",
    "# Set up GridSearchCV with corrected parameters\n",
    "grid_search_gbc = GridSearchCV(gbc, parameters, cv=2, n_jobs=-1, verbose=1)\n",
    "\n",
    "# Fit the grid search to the data (Assuming X_train and y_train are already defined)\n",
    "grid_search_gbc.fit(X_train, y_train)\n"
   ]
  },
  {
   "cell_type": "code",
   "execution_count": null,
   "id": "1d3c6780-f6fb-4b66-9938-26bb22c18e72",
   "metadata": {},
   "outputs": [],
   "source": [
    "grid_search_gbc.best_params_"
   ]
  },
  {
   "cell_type": "code",
   "execution_count": null,
   "id": "b23a1b2e-d898-4c57-a8e1-b3447b6a80f8",
   "metadata": {},
   "outputs": [],
   "source": [
    "grid_search_gbc.best_score_"
   ]
  },
  {
   "cell_type": "code",
   "execution_count": null,
   "id": "b22011a7-870f-4ff3-9b5f-759684c0c7ca",
   "metadata": {},
   "outputs": [],
   "source": [
    "gbc = GradientBoostingClassifier(learning_rate = 0.1, loss = 'exponential', n_estimators = 180)\n",
    "gbc.fit(X_train, y_train)"
   ]
  },
  {
   "cell_type": "code",
   "execution_count": null,
   "id": "beb57d6b-b2bc-444b-978e-3629af73edc2",
   "metadata": {},
   "outputs": [],
   "source": [
    "from sklearn.metrics import accuracy_score, confusion_matrix, classification_report\n",
    "print(accuracy_score(y_train, gbc.predict(X_train)))\n",
    "gbc_acc = accuracy_score(y_test, gbc.predict(X_test))\n",
    "print(gbc_acc)\n",
    "y_pred = gbc.predict(X_test)\n",
    "print(confusion_matrix(y_test, y_pred))\n",
    "print(classification_report(y_test, y_pred))"
   ]
  },
  {
   "cell_type": "code",
   "execution_count": null,
   "id": "cfa0f832-85d1-4984-9f42-62ba58179fa3",
   "metadata": {},
   "outputs": [],
   "source": [
    "from xgboost import XGBClassifier\n",
    "\n",
    "xgb = XGBClassifier(objective = 'binary:logistic', learning_rate = 0.01, max_depth = 5, n_estimators = 180)\n",
    "xgb.fit(X_train, y_train)"
   ]
  },
  {
   "cell_type": "code",
   "execution_count": null,
   "id": "c36db1b1-510a-4321-b74a-fc6e1840f1fa",
   "metadata": {},
   "outputs": [],
   "source": [
    "from sklearn.metrics import accuracy_score, confusion_matrix, classification_report\n",
    "print(accuracy_score(y_train, xgb.predict(X_train)))\n",
    "xgb_acc = accuracy_score(y_test, xgb.predict(X_test))\n",
    "print(xgb_acc)\n",
    "y_pred = xgb.predict(X_test)\n",
    "print(confusion_matrix(y_test, y_pred))\n",
    "print(classification_report(y_test, y_pred))"
   ]
  },
  {
   "cell_type": "code",
   "execution_count": null,
   "id": "98a1aada-1b80-4ba2-a42b-134cf3452c80",
   "metadata": {},
   "outputs": [],
   "source": [
    "models = pd.DataFrame({\n",
    "    'Model': ['Logistic Regression', 'KNN', 'SVC',  'Decision Tree Classifier', 'Random Forest Classifier', 'Gradient Boosting Classifier', 'XGB Classifier'],\n",
    "    'Score': [100*round(log_reg_acc,4), 100*round(knn_acc,4), 100*round(svc_acc,4), 100*round(dtc_acc,4), 100*round(rand_clf_acc,4), 100*round(gbc_acc,4), 100*round(xgb_acc,4)]\n",
    "})\n",
    "models.sort_values( by = 'Score', ascending = False)\n",
    "   "
   ]
  },
  {
   "cell_type": "code",
   "execution_count": null,
   "id": "5e67552d-82e4-4972-9617-b501e5a44ea9",
   "metadata": {},
   "outputs": [],
   "source": [
    "import pickle\n",
    "model = svc\n",
    "pickle.dump(model, open(\"breast_cancer.pkl\",\"wb\"))"
   ]
  },
  {
   "cell_type": "code",
   "execution_count": null,
   "id": "634bb062-3458-4d98-a0fc-cd73fc169a97",
   "metadata": {},
   "outputs": [],
   "source": [
    "from sklearn import metrics\n",
    "plt.figure(figsize=(8,5))\n",
    "models = [\n",
    "{\n",
    "     'label': 'LR',\n",
    "     'model': log_reg,\n",
    "},\n",
    "{\n",
    "     'label': 'DT',\n",
    "     'model': dtc,\n",
    "},    \n",
    "{\n",
    "     'label': 'SVM',\n",
    "     'model': svc,\n",
    "},\n",
    "{\n",
    "     'label': 'KNN',\n",
    "     'model': knn,\n",
    "},\n",
    "{\n",
    "     'label': 'XGBoost',\n",
    "     'model': xgb,\n",
    "},\n",
    "{\n",
    "     'label': 'RF',\n",
    "     'model': rand_clf,\n",
    "},\n",
    "{\n",
    "     'label': 'GBDT',\n",
    "     'model': gbc,\n",
    "}\n",
    "]\n",
    "for m in models:\n",
    "    model = m['model']\n",
    "    model.fit(X_train, y_train)\n",
    "    y_pred = model.predict(X_test)\n",
    "    fprl, tprl, thresholds = metrics.roc_curve(y_test, model.predict_proba(X_test)[:,1])\n",
    "    auc  = metrics.roc_auc_score(y_test,model.predict(X_test))\n",
    "    plt.plot(fprl, tprl, label = '%s - ROC (area = %0.2f)' % (m['label'], auc))\n",
    "\n",
    "plt.plot([0, 1], [0, 1], 'r--')\n",
    "plt.xlim([-0.01, 1.0])\n",
    "plt.ylim([0.0, 1.05])\n",
    "plt.xlabel('1 - Specificity (False Positive Rate)', fontsize = 12)\n",
    "plt.ylabel('Sensitivity (True Positive Rate)', fontsize = 12)\n",
    "plt.title('ROC - Breast Cancer Prediction', fontsize = 12)\n",
    "plt.legend(loc=\"lower right\", fontsize = 12)\n",
    "plt.savefig(\"roc_breast_cancer.jpeg\", format = 'jpeg',  dpi = 400, bbox_inches='tight')\n",
    "plt.show()"
   ]
  },
  {
   "cell_type": "code",
   "execution_count": null,
   "id": "f10b4d67-24e6-4542-817b-8e020282e0fe",
   "metadata": {},
   "outputs": [],
   "source": [
    "from sklearn import metrics\n",
    "import numpy as np\n",
    "import matplotlib.pyplot as plt\n",
    "models = [\n",
    "{\n",
    "     'label': 'LR',\n",
    "     'model': log_reg,\n",
    "},\n",
    "{\n",
    "     'label': 'DT',\n",
    "     'model': dtc,\n",
    "},    \n",
    "{\n",
    "     'label': 'SVM',\n",
    "     'model': svc,\n",
    "},\n",
    "{\n",
    "     'label': 'KNN',\n",
    "     'model': knn,\n",
    "},\n",
    "{\n",
    "     'label': 'XGBoost',\n",
    "     'model': xgb,\n",
    "},\n",
    "{\n",
    "     'label': 'RF',\n",
    "     'model': rand_clf,\n",
    "},\n",
    "{\n",
    "     'label': 'GBDT',\n",
    "     'model': gbc,\n",
    "}\n",
    "]\n",
    "means_roc = []\n",
    "means_accuracy =  [100*round(log_reg_acc,4), 100*round(knn_acc,4), 100*round(svc_acc,4), 100*round(dtc_acc,4),\n",
    "          100*round(rand_clf_acc,4), 100*round(gbc_acc,4), 100*round(xgb_acc,4)]\n",
    "\n",
    "for m in models:\n",
    "    model = m['model']\n",
    "    model.fit(X_train, y_train)\n",
    "    y_pred = model.predict(X_test)\n",
    "    fprl, tprl, thresholds = metrics.roc_curve(y_test, model.predict_proba(X_test)[:,1])\n",
    "    auc  = metrics.roc_auc_score(y_test,model.predict(X_test))\n",
    "    auc = 100*round(auc, 4)\n",
    "    means_roc.append(auc)\n",
    "\n",
    "print(means_accuracy)\n",
    "print(means_roc)\n",
    "\n",
    "#data to plot\n",
    "n_groups = 7\n",
    "means_accuracy = tuple(means_accuracy)\n",
    "means_roc = tuple(means_roc)\n",
    "\n",
    "# Create plot\n",
    "fig, ax = plt.subplots(figsize = (8,5))\n",
    "index = np.arange(n_groups)\n",
    "bar_width = 0.35\n",
    "opacity = 0.8\n",
    "\n",
    "rects1 = plt.bar(index, means_accuracy, bar_width,\n",
    "                 alpha = opacity,\n",
    "color = 'mediumpurple',\n",
    "label='Accuracy (%)')\n",
    "\n",
    "rects2 = plt.bar(index + bar_width, means_roc, bar_width,\n",
    "                 alpha = opacity,\n",
    "color = 'rebeccapurple',\n",
    "label='ROC (%)')\n",
    "\n",
    "plt.xlim([-1, 8])\n",
    "plt.ylim([70, 104])\n",
    "\n",
    "plt.title('performance Evaluation - Breast Cancer Prediction', fontsize = 12)\n",
    "plt.xticks(index, (' LR', ' DT',' SVM', ' KNN', 'XGBoost', 'RF', 'GBDT'), rotation=40)\n",
    "plt.legend(loc=\"upper right\", fontsize = 10)\n",
    "plt.savefig(\"PE_breast-cancer.jpeg\", format = 'jpeg', dpi = 400, bbox_inches='tight')\n",
    "plt.show()"
   ]
  },
  {
   "cell_type": "code",
   "execution_count": null,
   "id": "2f24146a-8ea3-4cc8-99d0-5829108d0563",
   "metadata": {},
   "outputs": [],
   "source": []
  }
 ],
 "metadata": {
  "kernelspec": {
   "display_name": "Python 3 (ipykernel)",
   "language": "python",
   "name": "python3"
  },
  "language_info": {
   "codemirror_mode": {
    "name": "ipython",
    "version": 3
   },
   "file_extension": ".py",
   "mimetype": "text/x-python",
   "name": "python",
   "nbconvert_exporter": "python",
   "pygments_lexer": "ipython3",
   "version": "3.11.7"
  }
 },
 "nbformat": 4,
 "nbformat_minor": 5
}
